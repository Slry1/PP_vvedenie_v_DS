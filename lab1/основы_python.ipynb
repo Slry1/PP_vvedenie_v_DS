{
 "cells": [
  {
   "cell_type": "markdown",
   "metadata": {
    "id": "M-DGa20PaHnu"
   },
   "source": [
    "#Задача 1\n",
    "Написать функцию на вход которой подается строка, состоящая из латинских букв.\n",
    "Функция должна вернуть количество гласных букв (a, e, i, o, u) в этой строке. Написать тесты для кода"
   ]
  },
  {
   "cell_type": "code",
   "execution_count": 23,
   "metadata": {
    "id": "XvX8X_JJ6PCb"
   },
   "outputs": [
    {
     "name": "stdout",
     "output_type": "stream",
     "text": [
      "True\n",
      "True\n"
     ]
    }
   ],
   "source": [
    "def aeiou_count(string):\n",
    "    k = 0\n",
    "    for i in string:\n",
    "        if i.lower() in 'aeiou':\n",
    "            k += 1\n",
    "    return k\n",
    "\n",
    "print(aeiou_count('aeioubcd') == 5)\n",
    "print(aeiou_count('AaBbCcDdEe') == 4)"
   ]
  },
  {
   "cell_type": "markdown",
   "metadata": {
    "id": "t2ClV_Y0bbr6"
   },
   "source": [
    "# Задача 2\n",
    "Написать функцию на вход, которой подается строка. Функция должна вернуть true, если\n",
    "каждый символ в строке встречается только 1 раз, иначе должна вернуть false. Написать тесты для кода"
   ]
  },
  {
   "cell_type": "code",
   "execution_count": 27,
   "metadata": {
    "id": "FppbECao6VIz"
   },
   "outputs": [
    {
     "name": "stdout",
     "output_type": "stream",
     "text": [
      "True\n",
      "False\n",
      "False\n"
     ]
    }
   ],
   "source": [
    "def unique_char(string):\n",
    "    return len(string) == len(set(string.lower()))\n",
    "\n",
    "print(unique_char('abcd'))\n",
    "print(unique_char('abcda'))\n",
    "print(unique_char('abcdA'))"
   ]
  },
  {
   "cell_type": "markdown",
   "metadata": {
    "id": "udRiIK1cdt6E"
   },
   "source": [
    "# Задача 3\n",
    "Написать функцию, которая принимает положительное число и возвращает количество\n",
    "бит равных 1 в этом числе. Написать тесты для кода"
   ]
  },
  {
   "cell_type": "code",
   "execution_count": 69,
   "metadata": {
    "id": "6tkfDJRz6dp_"
   },
   "outputs": [
    {
     "name": "stdout",
     "output_type": "stream",
     "text": [
      "0b1 1\n",
      "0b1010 2\n",
      "0b11001 3\n"
     ]
    }
   ],
   "source": [
    "def ones_count(n):\n",
    "    k = 0\n",
    "    while n > 0:\n",
    "        k += n & 1\n",
    "        n >>= 1\n",
    "    return k\n",
    "\n",
    "print(bin(1), ones_count(1))\n",
    "print(bin(10), ones_count(10))\n",
    "print(bin(25), ones_count(25))"
   ]
  },
  {
   "cell_type": "markdown",
   "metadata": {
    "id": "26dDUz-Ae17N"
   },
   "source": [
    "# Задача 4\n",
    "Написать функцию, которая принимает положительное число. Функция должна вернуть то,\n",
    "сколько раз необходимо перемножать цифры числа или результат перемножения, чтобы\n",
    "получилось число состоящее из одной цифры.\n",
    "Например, для входного числа:\n",
    "· 39 функция должна вернуть 3, так как 3*9=27 => 2*7=14 => 1*4=4\n",
    "· 4 функция должна вернуть 0, так как число уже состоит из одной цифры\n",
    "· 999 функция должна вернуть 4, так как 9*9*9=729 => 7*2*9=126 => 1*2*6=12 =>\n",
    "1*2=2. Написать тесты для кода"
   ]
  },
  {
   "cell_type": "code",
   "execution_count": 73,
   "metadata": {
    "id": "BH1A_Mgi6i4G"
   },
   "outputs": [
    {
     "name": "stdout",
     "output_type": "stream",
     "text": [
      "3\n",
      "0\n",
      "4\n"
     ]
    }
   ],
   "source": [
    "def magic(n):\n",
    "    if n < 10:\n",
    "        return 0\n",
    "    res = 1\n",
    "    while n > 0:\n",
    "        res *= n % 10\n",
    "        n //= 10\n",
    "\n",
    "    return magic(res) + 1\n",
    "\n",
    "print(magic(39))\n",
    "print(magic(4))\n",
    "print(magic(999))"
   ]
  },
  {
   "cell_type": "markdown",
   "metadata": {
    "id": "0nS-kIa8g8vd"
   },
   "source": [
    "# Задача 5\n",
    "Написать функцию, которая принимает два целочисленных вектора одинаковой длины и\n",
    "возвращает среднеквадратическое отклонение двух векторов. Написать тесты для кода"
   ]
  },
  {
   "cell_type": "code",
   "execution_count": 95,
   "metadata": {
    "id": "8iphx4LM6xbx"
   },
   "outputs": [
    {
     "name": "stdout",
     "output_type": "stream",
     "text": [
      "error\n",
      "670.0\n"
     ]
    },
    {
     "data": {
      "text/plain": [
       "670.0"
      ]
     },
     "execution_count": 95,
     "metadata": {},
     "output_type": "execute_result"
    }
   ],
   "source": [
    "from sklearn.metrics import mean_squared_error \n",
    "\n",
    "def mse(pred, true):\n",
    "    if len(pred) != len(true):\n",
    "        return('error')\n",
    "    \n",
    "    n = len(pred)\n",
    "    sq_sum = sum((pred[i] - true[i]) ** 2 for i in range(n))\n",
    "    mean_sq = sq_sum / n\n",
    "    return mean_sq\n",
    "\n",
    "v1 = [11, 23, 4]\n",
    "v2 = [42, 55, 9]\n",
    "\n",
    "print(mse([1],[2,3]))\n",
    "print(mse(v1,v2))\n",
    "mean_squared_error(v1,v2)"
   ]
  },
  {
   "cell_type": "markdown",
   "metadata": {
    "id": "vpIPKL439zkw"
   },
   "source": [
    "# Задача 6\n",
    "Написать функцию, принимающая целое положительное число. Функция должна вернуть\n",
    "строку вида “(n1**p1)(n2**p2)…(nk**pk)” представляющая разложение числа на простые\n",
    "множители (если pi == 1, то выводить только ni).\n",
    "Например, для числа 86240 функция должна вернуть “(2**5)(5)(7**2)(11)”. Написать тесты для кода"
   ]
  },
  {
   "cell_type": "code",
   "execution_count": 202,
   "metadata": {
    "id": "pFebmcZk94Jw"
   },
   "outputs": [
    {
     "name": "stdout",
     "output_type": "stream",
     "text": [
      "(2**5)(5)(7**2)(11)\n",
      "(2)\n",
      "(5)\n",
      "(2**2)(3)\n",
      "(3)(5)\n"
     ]
    }
   ],
   "source": [
    "def primes(n):\n",
    "    res = []\n",
    "    i = 2\n",
    "    while i * i <= n:\n",
    "        while (n % i) == 0:\n",
    "            res.append(i)\n",
    "            n //= i\n",
    "        i += 1\n",
    "    if n > 1:\n",
    "        res.append(n)\n",
    "    st = \"\"\n",
    "    counter = {}\n",
    "    for i in res:\n",
    "        if i in counter.keys():\n",
    "            counter[i]+=1\n",
    "        else:\n",
    "            counter[i]=1\n",
    "    for i in sorted(set(res)):\n",
    "        if counter[i] == 1:\n",
    "            st+=(f\"({i})\")\n",
    "        else:\n",
    "            st+=(f\"({i}**{counter[i]})\")\n",
    "    return st\n",
    "\n",
    "print(primes(86240))\n",
    "print(primes(2))\n",
    "print(primes(5))\n",
    "print(primes(12))\n",
    "print(primes(15))"
   ]
  },
  {
   "cell_type": "markdown",
   "metadata": {
    "id": "ps2s0BudX7A2"
   },
   "source": [
    "# Задача 7\n",
    "Написать функцию, принимающая целое число n, задающее количество кубиков. Функция\n",
    "должна определить, можно ли из данного кол-ва кубиков построить пирамиду, то есть\n",
    "можно ли представить число n как 1^2+2^2+3^2+…+k^2. Если можно, то функция должна\n",
    "вернуть k, иначе строку “It is impossible”. Написать тесты для кода"
   ]
  },
  {
   "cell_type": "code",
   "execution_count": 192,
   "metadata": {
    "id": "3YPjEXxhX_YT"
   },
   "outputs": [
    {
     "name": "stdout",
     "output_type": "stream",
     "text": [
      "2\n",
      "3\n",
      "4\n",
      "5\n",
      "It is impossible\n",
      "It is impossible\n",
      "It is impossible\n"
     ]
    }
   ],
   "source": [
    "def pyramid(number):\n",
    "    if number == 1:\n",
    "        return 'It is impossible'\n",
    "    k = 1\n",
    "    i = 1\n",
    "    while k<number:\n",
    "        i+=1\n",
    "        k += i**2\n",
    "    if k == number:\n",
    "        return i\n",
    "    else:\n",
    "        return 'It is impossible'\n",
    "\n",
    "print(pyramid(5))\n",
    "print(pyramid(14))\n",
    "print(pyramid(30))\n",
    "print(pyramid(55))\n",
    "print(pyramid(2))\n",
    "print(pyramid(6))\n",
    "print(pyramid(56))"
   ]
  },
  {
   "cell_type": "markdown",
   "metadata": {
    "id": "KeKgmIdAQMEJ"
   },
   "source": [
    "# Задача 8\n",
    "Функция принимает на вход положительное число и определяет является ли оно сбалансированным, т.е. сумма цифр до средних равна сумме цифр после. Средними в случае нечетного числа цифр считать одну цифру, в случае четного - две средних. Написать тесты для кода"
   ]
  },
  {
   "cell_type": "markdown",
   "metadata": {
    "id": "gMAAqtqlQrZt"
   },
   "source": [
    "честно не понял"
   ]
  }
 ],
 "metadata": {
  "colab": {
   "provenance": []
  },
  "kernelspec": {
   "display_name": "Python 3 (ipykernel)",
   "language": "python",
   "name": "python3"
  },
  "language_info": {
   "codemirror_mode": {
    "name": "ipython",
    "version": 3
   },
   "file_extension": ".py",
   "mimetype": "text/x-python",
   "name": "python",
   "nbconvert_exporter": "python",
   "pygments_lexer": "ipython3",
   "version": "3.12.7"
  }
 },
 "nbformat": 4,
 "nbformat_minor": 4
}
